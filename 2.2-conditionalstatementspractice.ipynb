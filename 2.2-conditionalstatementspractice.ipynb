{
 "cells": [
  {
   "cell_type": "markdown",
   "metadata": {},
   "source": [
    "# 1 Conditional Statements Practice Questions"
   ]
  },
  {
   "cell_type": "markdown",
   "metadata": {},
   "source": [
    "1.0.1 Credit Card Fraud Detection\n",
    "\n",
    "A bank wants to flag suspicious transactions based on amount and frequency.\n",
    "\n",
    "Conditions: - If a transaction is more than $5000 OR the number of transactions in an hour is\n",
    "more than 10, it is labeled “Fraudulent” (high risk). - If the amount is between $1000 and $5000,\n",
    "it is labeled “Suspicious” (moderate risk). - Otherwise, it is a “Normal” transaction (low risk)."
   ]
  },
  {
   "cell_type": "code",
   "execution_count": 7,
   "metadata": {},
   "outputs": [
    {
     "name": "stdout",
     "output_type": "stream",
     "text": [
      "transaction status: fraudulent (high risk)\n"
     ]
    }
   ],
   "source": [
    "# get user inpuut first\n",
    "transaction_amount = float(input(\"enter transaction amount: $\")) \n",
    "number_transaction = int(input(\"enter number of transaction in the last hour: \"))\n",
    "\n",
    "if transaction_amount > 5000 or number_transaction > 10:\n",
    "    print(\"transaction status: fraudulent (high risk)\")\n",
    "elif 1000 <= transaction_amount <=5000:\n",
    "    print(\"transaction status: suspicious (moderate risk)\")\n",
    "else:\n",
    "    print(\"transaction status: normal (low risk)\")        "
   ]
  },
  {
   "cell_type": "markdown",
   "metadata": {},
   "source": [
    "1.0.2 Health Risk Assessment (BMI Check)\n",
    "\n",
    "A health organization wants to classify individuals based on BMI.\n",
    "\n",
    "Formula: BMI = weight / (height2)\n",
    "Conditions: - If BMI < 18.5, the person is Underweight. - If 18.5 ff BMI < 25, the person has\n",
    "Normal weight. - If 25 ff BMI < 30, the person is Overweight. - If BMI ff 30, the person is Obese."
   ]
  },
  {
   "cell_type": "code",
   "execution_count": 8,
   "metadata": {},
   "outputs": [
    {
     "name": "stdout",
     "output_type": "stream",
     "text": [
      "Error: Please enter a valid height.\n"
     ]
    }
   ],
   "source": [
    "weight= float(input(\"enter weight in kg: \"))\n",
    "height= float(input(\"enter height in meters: \"))\n",
    "\n",
    "\n",
    "if height == 0:\n",
    "    print(\"Error: Please enter a valid height.\")\n",
    "else:\n",
    "    bmi = weight / (height ** 2)  # BMI calculation\n",
    "\n",
    "    if bmi < 18.5:\n",
    "        print(\"status of health: underweight\")\n",
    "    elif 18.5 <= bmi < 25:\n",
    "        print(\"status of health: normalweight\")\n",
    "    elif 25 <= bmi <30:\n",
    "        print(\"status of health: overweighht\")  \n",
    "    else:\n",
    "        print(\"status of health: obese\")           "
   ]
  },
  {
   "cell_type": "markdown",
   "metadata": {},
   "source": [
    "1.0.3 Employee Bonus Calculation\n",
    "\n",
    "A company awards performance-based bonuses based on rating and experience.\n",
    "\n",
    "Conditions: - If an employee’s rating is “Excellent”: They get 20% of their salary if they have more\n",
    "than 5 years of experience. Otherwise, they get 15% of their salary. - If the rating is “Good”:\n",
    "They get 10% if they have more than 3 years of experience. Otherwise, they get 5%. - If the rating\n",
    "is “Average”: They get 3% if they have more than 2 years of experience. Otherwise, they get no\n",
    "bonus. - If the rating is “Poor”, they get no bonus."
   ]
  },
  {
   "cell_type": "code",
   "execution_count": 9,
   "metadata": {},
   "outputs": [
    {
     "name": "stdout",
     "output_type": "stream",
     "text": [
      "invalid input\n",
      "my salary is 10000.0 and my bonus is 0.0\n"
     ]
    }
   ],
   "source": [
    "performance_rating = input(\"enter performance rating (excellent/good/average/poor): \")\n",
    "years_of_experience = int(input(\"enter years of experience: \"))\n",
    "\n",
    "bonus_percentage = 0\n",
    "\n",
    "if performance_rating == \"excellent\":\n",
    "    if years_of_experience >5:\n",
    "        bonus_percentage = 20\n",
    "    else:\n",
    "        bonus_percentage = 15    \n",
    "elif performance_rating == \"good\":\n",
    "     if years_of_experience >3:\n",
    "        bonus_percentage = 10\n",
    "     else:\n",
    "        bonus_percentage = 5\n",
    "elif performance_rating == \"average\":\n",
    "    if years_of_experience >2:\n",
    "        bonus_percentage = 3\n",
    "    else:\n",
    "        bonus_percentage = 0\n",
    "\n",
    "elif performance_rating == \"poor\":\n",
    "    bonus_percentage = 0\n",
    "else:\n",
    "    print(\"invalid input\")\n",
    "\n",
    "salary = float(input(\"enter your salary: $\"))\n",
    "bonus = salary * bonus_percentage / 100\n",
    "print(f\"my salary is {salary} and my bonus is {bonus}\")\n"
   ]
  },
  {
   "cell_type": "markdown",
   "metadata": {},
   "source": [
    "1.0.4 University Admission Based on Scores\n",
    "\n",
    "A university decides admission based on Math, Science, and English scores.\n",
    "\n",
    "Conditions: - If the Math score is 80 or above and Science score is 75 or above, the student is\n",
    "“Admitted”; otherwise, they are “Waitlisted”. - If the Math score is below 80 and English score is\n",
    "85 or above, the student is “Waitlisted”; otherwise, they are “Rejected”."
   ]
  },
  {
   "cell_type": "code",
   "execution_count": 5,
   "metadata": {},
   "outputs": [
    {
     "name": "stdout",
     "output_type": "stream",
     "text": [
      "Your admission status is: rejected\n"
     ]
    }
   ],
   "source": [
    "math_score = float(input(\" enter your math score\"))\n",
    "science_score = float(input(\" enter your science score\"))\n",
    "english_score = float(input(\"enter your english score\"))\n",
    "\n",
    "if math_score >=80 and science_score >=75:\n",
    "    student_status = \"admitted\"\n",
    "elif math_score <80 and english_score >=85:\n",
    "    student_status = \" waitlisted\"\n",
    "else:\n",
    "    student_status = \"rejected\"\n",
    "print(f\"Your admission status is: {student_status}\")\n",
    "\n"
   ]
  },
  {
   "cell_type": "markdown",
   "metadata": {},
   "source": [
    "1.0.5 Electricity Bill Calculation\n",
    "\n",
    "A power company charges different rates based on units of electricity consumed.\n",
    "\n",
    "Conditions: - If the electricity usage is 100 units or less, the rate is $0.5 per unit. - If the usage is\n",
    "between 101 and 300 units and above 200 units, the rate is $0.75 per unit; otherwise, the rate is\n",
    "$0.65 per unit. - If the usage is above 300 units, the rate is $1.0 per unit."
   ]
  },
  {
   "cell_type": "code",
   "execution_count": 6,
   "metadata": {},
   "outputs": [
    {
     "name": "stdout",
     "output_type": "stream",
     "text": [
      " your electricity units is 150.0 and your bill is: 97.5\n"
     ]
    }
   ],
   "source": [
    "units = float(input(\"Enter the number of electricity units consumed: \"))\n",
    "\n",
    "\n",
    "if units <= 100:\n",
    "    bill_amount = units * 0.50  \n",
    "elif units <= 300:\n",
    "    if units > 200:\n",
    "        bill_amount = units * 0.75  \n",
    "    else:\n",
    "        bill_amount = units * 0.65  \n",
    "else:\n",
    "    bill_amount = units * 1.00  \n",
    "\n",
    "\n",
    "print(f\" your electricity units is {units} and your bill is: {bill_amount}\")\n"
   ]
  }
 ],
 "metadata": {
  "kernelspec": {
   "display_name": "Python 3",
   "language": "python",
   "name": "python3"
  },
  "language_info": {
   "codemirror_mode": {
    "name": "ipython",
    "version": 3
   },
   "file_extension": ".py",
   "mimetype": "text/x-python",
   "name": "python",
   "nbconvert_exporter": "python",
   "pygments_lexer": "ipython3",
   "version": "3.12.9"
  }
 },
 "nbformat": 4,
 "nbformat_minor": 2
}
