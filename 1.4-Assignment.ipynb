{
 "cells": [
  {
   "cell_type": "markdown",
   "metadata": {},
   "source": [
    "# 1. Assignment: Python Basics\n",
    "# 1.1 Topics Covered\n",
    "- Syntax and Semantics\n",
    "- Variables and Data Types\n",
    "- Basic Operators (Arithmetic, Comparison, Logical)"
   ]
  },
  {
   "cell_type": "markdown",
   "metadata": {},
   "source": [
    "# Question 1: Write a Python program to print “Hello, World!”."
   ]
  },
  {
   "cell_type": "code",
   "execution_count": 38,
   "metadata": {},
   "outputs": [
    {
     "name": "stdout",
     "output_type": "stream",
     "text": [
      "Hello,World\n"
     ]
    }
   ],
   "source": [
    "# ans1\n",
    "print(\"Hello,World\")"
   ]
  },
  {
   "cell_type": "markdown",
   "metadata": {},
   "source": [
    "# Question 2: Write a Python program that takes a user input and prints it."
   ]
  },
  {
   "cell_type": "code",
   "execution_count": 2,
   "metadata": {},
   "outputs": [
    {
     "name": "stdout",
     "output_type": "stream",
     "text": [
      "kishan patel\n"
     ]
    }
   ],
   "source": [
    "name = input(\"enter name here\")\n",
    "print(name)"
   ]
  },
  {
   "cell_type": "markdown",
   "metadata": {},
   "source": [
    "# Question 3: Write a Python program to check if a number is positive, negative, or zero."
   ]
  },
  {
   "cell_type": "code",
   "execution_count": 41,
   "metadata": {},
   "outputs": [
    {
     "name": "stdout",
     "output_type": "stream",
     "text": [
      "The num is zero\n"
     ]
    }
   ],
   "source": [
    "num = int(input(\"enter the number: \"))\n",
    "\n",
    "if num > 0:\n",
    "    print(f\"The num {num} is positive.\")\n",
    "elif num < 0:\n",
    "    print(f\"The num {num} is negative.\")\n",
    "else:\n",
    "    print(\"The num is zero\")"
   ]
  },
  {
   "cell_type": "markdown",
   "metadata": {},
   "source": [
    "# Question 4: Write a Python program to find the largest of three numbers."
   ]
  },
  {
   "cell_type": "code",
   "execution_count": 5,
   "metadata": {},
   "outputs": [
    {
     "name": "stdout",
     "output_type": "stream",
     "text": [
      " The largest num is: 30.0\n"
     ]
    }
   ],
   "source": [
    "num1= float(input(\"enter first number: \"))\n",
    "num2= float(input(\"enter second number: \"))\n",
    "num3= float(input(\"enter third number: \"))\n",
    "\n",
    "if num1 >= num2 and num2 >= num3:\n",
    "    largest = num1\n",
    "elif num2 >= num1 and num2 >= num3:\n",
    "    largest = num2\n",
    "else:\n",
    "    largest = num3\n",
    "\n",
    "print(f\" The largest num is: {largest}\")"
   ]
  },
  {
   "cell_type": "markdown",
   "metadata": {},
   "source": [
    "# Question 5: Write a Python program to calculate the factorial of a number."
   ]
  },
  {
   "cell_type": "code",
   "execution_count": 35,
   "metadata": {},
   "outputs": [
    {
     "name": "stdout",
     "output_type": "stream",
     "text": [
      "The factorial of 4 is 24\n"
     ]
    }
   ],
   "source": [
    "# usisg this formula to find factorial num n!=n×(n−1)×(n−2)×...×1\n",
    "# for example:5!=5×4×3×2×1=120\n",
    "\n",
    "num = int(input(\"Enter a number: \"))\n",
    "\n",
    "# Factorial is only defined for non-negative integers\n",
    "if num < 0:\n",
    "    print(\"Factorial does not exist for negative numbers.\")\n",
    "elif num == 0 or num == 1:\n",
    "    print(f\"The factorial of {num} is 1\")\n",
    "else:\n",
    "    factorial = 1\n",
    "    for i in range(1, num + 1):\n",
    "        factorial *= i\n",
    "    print(f\"The factorial of {num} is {factorial}\")\n"
   ]
  },
  {
   "cell_type": "markdown",
   "metadata": {},
   "source": [
    "# Question 6: Create variables of different data types: integer, float, string, and boolean. Print their values and types."
   ]
  },
  {
   "cell_type": "code",
   "execution_count": 39,
   "metadata": {},
   "outputs": [
    {
     "name": "stdout",
     "output_type": "stream",
     "text": [
      "integer_age : 26\n",
      "float_height: 5.9\n",
      "string_name: Kishan\n",
      "bool_patel: True\n",
      "<class 'int'>\n",
      "<class 'float'>\n",
      "<class 'str'>\n",
      "<class 'bool'>\n"
     ]
    }
   ],
   "source": [
    "string_name= \"Kishan\"   # String\n",
    "integer_age= 26          # Integer\n",
    "float_height= 5.9      # Float\n",
    "bool_patel= True # Boolean\n",
    "\n",
    "## printing the variables\n",
    "\n",
    "print(\"integer_age :\",integer_age)\n",
    "print(\"float_height:\",float_height)\n",
    "print(\"string_name:\",string_name)\n",
    "print(\"bool_patel:\",bool_patel)\n",
    "\n",
    "#print types of class\n",
    "\n",
    "print(type(integer_age))\n",
    "print(type(float_height))\n",
    "print(type(string_name))\n",
    "print(type(bool_patel))"
   ]
  },
  {
   "cell_type": "code",
   "execution_count": 40,
   "metadata": {},
   "outputs": [
    {
     "name": "stdout",
     "output_type": "stream",
     "text": [
      "integer_age : 26 | Type: <class 'int'>\n",
      "float_height: 5.9 | Type: <class 'float'>\n",
      "string_name : Kishan | Type: <class 'str'>\n",
      "bool_patel  : True | Type: <class 'bool'>\n"
     ]
    }
   ],
   "source": [
    "# print variables & types both in one code using f-strings method\n",
    "print(f\"integer_age : {integer_age} | Type: {type(integer_age)}\")\n",
    "print(f\"float_height: {float_height} | Type: {type(float_height)}\")\n",
    "print(f\"string_name : {string_name} | Type: {type(string_name)}\")\n",
    "print(f\"bool_patel  : {bool_patel} | Type: {type(bool_patel)}\")"
   ]
  },
  {
   "cell_type": "markdown",
   "metadata": {},
   "source": [
    "# Question 7: Write a Python program to swap the values of two variables."
   ]
  },
  {
   "cell_type": "code",
   "execution_count": 6,
   "metadata": {},
   "outputs": [
    {
     "name": "stdout",
     "output_type": "stream",
     "text": [
      "10\n",
      "5\n"
     ]
    }
   ],
   "source": [
    "a = 5\n",
    "b = 10\n",
    "a,b, = b,a\n",
    "\n",
    "print(a)\n",
    "print(b)"
   ]
  },
  {
   "cell_type": "markdown",
   "metadata": {},
   "source": [
    "# Question 8: Write a Python program to convert Celsius to Fahrenheit."
   ]
  },
  {
   "cell_type": "markdown",
   "metadata": {},
   "source": [
    "# Formula for Conversion:\n",
    "\n",
    "- can we use other formula? No, because temperature conversion follows a fixed mathematical relationship. However, we can rearrange or express the formula differently:\n",
    "\n",
    "- ✅ Using Decimals:Instead of 9/5, we can use 1.8:\n",
    "- °F = (°C × 9/5)+32\n"
   ]
  },
  {
   "cell_type": "code",
   "execution_count": 34,
   "metadata": {},
   "outputs": [
    {
     "name": "stdout",
     "output_type": "stream",
     "text": [
      "55.0 Celsius is equal to 131.0 fahrenheit\n"
     ]
    }
   ],
   "source": [
    "# Taking user input for Celsius temperature\n",
    "celsius = float(input(\"Enter temperature in Celsius: \"))\n",
    "\n",
    "# Converting Celsius to Fahrenheit\n",
    "fahrenheit = (celsius * 9/5) + 32\n",
    "\n",
    "# Printing the result\n",
    "print(f\"{celsius} Celsius is equal to {fahrenheit} fahrenheit\")\n"
   ]
  },
  {
   "cell_type": "markdown",
   "metadata": {},
   "source": [
    "# convert Fahrenheit to celsius.\n",
    "- formula - celsius = (fahrenheit - 32) * 5/9\n"
   ]
  },
  {
   "cell_type": "code",
   "execution_count": 35,
   "metadata": {},
   "outputs": [
    {
     "name": "stdout",
     "output_type": "stream",
     "text": [
      "120.0 Fahrenheit is equal to 48.888888888888886 celsius\n"
     ]
    }
   ],
   "source": [
    "# Taking user input for Fahrenheit temperature\n",
    "Fahrenheit = float(input(\"Enter temperature in Fahrenheit: \"))\n",
    "\n",
    "# Converting Fahrenheit to celsius \n",
    "celsius = (Fahrenheit - 32) * 5/9\n",
    "\n",
    "# Printing the result\n",
    "print(f\"{Fahrenheit} Fahrenheit is equal to {celsius} celsius\")\n"
   ]
  },
  {
   "cell_type": "markdown",
   "metadata": {},
   "source": [
    "# Question 9: Write a Python program to concatenate two strings."
   ]
  },
  {
   "cell_type": "code",
   "execution_count": 36,
   "metadata": {},
   "outputs": [
    {
     "name": "stdout",
     "output_type": "stream",
     "text": [
      "name String: kishan patel\n"
     ]
    }
   ],
   "source": [
    "# Taking user input for two strings\n",
    "concat1 = input(\"Enter first string: \")\n",
    "concat2 = input(\"Enter second string: \")\n",
    "\n",
    "# Concatenating strings using +\n",
    "name_string = concat1 + \" \" + concat2\n",
    "\n",
    "# Printing the result usinng Comma Separation Method\n",
    "print(\"name String:\", name_string)\n"
   ]
  },
  {
   "cell_type": "code",
   "execution_count": 37,
   "metadata": {},
   "outputs": [
    {
     "name": "stdout",
     "output_type": "stream",
     "text": [
      "first string is kishan and second string is patel and ans is kishan patel\n"
     ]
    }
   ],
   "source": [
    "# Taking user input for two strings\n",
    "string1 = input()\n",
    "string2 = input()\n",
    "\n",
    "# Concatenating using f-string\n",
    "name_string = f\"{string1} {string2}\"\n",
    "\n",
    "# Printing the result using f-string method\n",
    "print(f\"first string is {string1} and second string is {string2} and ans is {name_string}\")"
   ]
  },
  {
   "cell_type": "markdown",
   "metadata": {},
   "source": [
    "# Question 10: Write a Python program to check if a variable is of a specific data type."
   ]
  },
  {
   "cell_type": "code",
   "execution_count": null,
   "metadata": {},
   "outputs": [
    {
     "name": "stdout",
     "output_type": "stream",
     "text": [
      "<class 'int'>\n"
     ]
    }
   ],
   "source": [
    "x = 26\n",
    "\n",
    "if isinstance(x, int):\n",
    "    print(\"x is a integer\")\n",
    "else:\n",
    "    print(\"x is not a integer\")\n"
   ]
  },
  {
   "cell_type": "markdown",
   "metadata": {},
   "source": [
    "# Question 11: Write a Python program to perform arithmetic operations: addition, subtraction, multiplication, and division."
   ]
  },
  {
   "cell_type": "code",
   "execution_count": 3,
   "metadata": {},
   "outputs": [
    {
     "name": "stdout",
     "output_type": "stream",
     "text": [
      "120\n",
      "80\n",
      "2000\n",
      "5.0\n"
     ]
    }
   ],
   "source": [
    "## Arithmethic Operation\n",
    "n1=100\n",
    "n2=20\n",
    "add_result=n1+n2 #addiiton\n",
    "sub_result=n1-n2 #substraction\n",
    "mult_result=n1*n2 #multiplication\n",
    "div_result=n1/n2 #division\n",
    "print(add_result)\n",
    "print(sub_result)\n",
    "print(mult_result)\n",
    "print(div_result)"
   ]
  },
  {
   "cell_type": "markdown",
   "metadata": {},
   "source": [
    "# Question 12: Write a Python program to demonstrate comparison operators: equal to, not equal to, greater than, less than.\n",
    "- Comparison operators are used to compare two values and return a Boolean result (True or False) based on the condition.\n"
   ]
  },
  {
   "cell_type": "code",
   "execution_count": null,
   "metadata": {},
   "outputs": [
    {
     "data": {
      "text/plain": [
       "False"
      ]
     },
     "execution_count": 49,
     "metadata": {},
     "output_type": "execute_result"
    }
   ],
   "source": [
    "## Comparison Operators\n",
    "\n",
    "#1 == Equal to\n",
    "# Key Point: (=) is used for assignment, while (==) is used for comparison\n",
    "# Returns (True) if they are equal, otherwise (False).\n",
    "a=1\n",
    "b=2\n",
    "a == b"
   ]
  },
  {
   "cell_type": "code",
   "execution_count": 55,
   "metadata": {},
   "outputs": [
    {
     "data": {
      "text/plain": [
       "True"
      ]
     },
     "execution_count": 55,
     "metadata": {},
     "output_type": "execute_result"
    }
   ],
   "source": [
    "# == Equal to\n",
    "str1=\"kishan\"\n",
    "str2=\"kishan\"\n",
    "str1 == str2"
   ]
  },
  {
   "cell_type": "code",
   "execution_count": 56,
   "metadata": {},
   "outputs": [
    {
     "data": {
      "text/plain": [
       "False"
      ]
     },
     "execution_count": 56,
     "metadata": {},
     "output_type": "execute_result"
    }
   ],
   "source": [
    "#2 Not Equal to (!=)\n",
    "# Returns (True) if they are not equal, otherwise (False).\n",
    "str1 != str2"
   ]
  },
  {
   "cell_type": "code",
   "execution_count": 58,
   "metadata": {},
   "outputs": [
    {
     "data": {
      "text/plain": [
       "False"
      ]
     },
     "execution_count": 58,
     "metadata": {},
     "output_type": "execute_result"
    }
   ],
   "source": [
    "#3 greater than (>)\n",
    "# Returns (True) if the condition is met, otherwise (False).\n",
    "num1=52\n",
    "num2=52\n",
    "num1 > num2"
   ]
  },
  {
   "cell_type": "code",
   "execution_count": 66,
   "metadata": {},
   "outputs": [
    {
     "data": {
      "text/plain": [
       "True"
      ]
     },
     "execution_count": 66,
     "metadata": {},
     "output_type": "execute_result"
    }
   ],
   "source": [
    "num1=55\n",
    "num2=52\n",
    "num1 > num2"
   ]
  },
  {
   "cell_type": "code",
   "execution_count": 67,
   "metadata": {},
   "outputs": [
    {
     "name": "stdout",
     "output_type": "stream",
     "text": [
      "False\n"
     ]
    }
   ],
   "source": [
    "#4 less than (<)\n",
    "# Returns (True) if the condition is met, otherwise (False).\n",
    "print(num1<num2)"
   ]
  },
  {
   "cell_type": "markdown",
   "metadata": {},
   "source": [
    "# Question 13: Write a Python program to demonstrate logical operators: and, or, not.\n",
    "- Logical operators are used to combine multiple conditions and return a Boolean result (True or False).\n",
    "- True = 1\n",
    "- False = 0"
   ]
  },
  {
   "cell_type": "code",
   "execution_count": null,
   "metadata": {},
   "outputs": [
    {
     "name": "stdout",
     "output_type": "stream",
     "text": [
      "True\n"
     ]
    }
   ],
   "source": [
    "#1 (and) (*)\n",
    "# Returns True only if both conditions are True.\n",
    "# If any condition is False, it returns False.\n",
    "X = True\n",
    "Y = True\n",
    "result = X and Y\n",
    "print(result)"
   ]
  },
  {
   "cell_type": "code",
   "execution_count": 77,
   "metadata": {},
   "outputs": [
    {
     "data": {
      "text/plain": [
       "False"
      ]
     },
     "execution_count": 77,
     "metadata": {},
     "output_type": "execute_result"
    }
   ],
   "source": [
    "#(and)\n",
    "str3=\"kishan\"\n",
    "str4=\"kishan\"\n",
    "(str3!=str4) and (str3==str4)"
   ]
  },
  {
   "cell_type": "code",
   "execution_count": null,
   "metadata": {},
   "outputs": [
    {
     "data": {
      "text/plain": [
       "True"
      ]
     },
     "execution_count": 78,
     "metadata": {},
     "output_type": "execute_result"
    }
   ],
   "source": [
    "#2 (OR) (+)\n",
    "# Returns True if at least one condition is True.\n",
    "# Only returns False if both conditions are False.\n",
    "X = False\n",
    "Y = True\n",
    "Y or X"
   ]
  },
  {
   "cell_type": "code",
   "execution_count": null,
   "metadata": {},
   "outputs": [
    {
     "data": {
      "text/plain": [
       "False"
      ]
     },
     "execution_count": 79,
     "metadata": {},
     "output_type": "execute_result"
    }
   ],
   "source": [
    "# (OR)\n",
    "X = False\n",
    "Y = False\n",
    "Y or X"
   ]
  },
  {
   "cell_type": "code",
   "execution_count": 83,
   "metadata": {},
   "outputs": [
    {
     "data": {
      "text/plain": [
       "False"
      ]
     },
     "execution_count": 83,
     "metadata": {},
     "output_type": "execute_result"
    }
   ],
   "source": [
    "#3 (Not)\n",
    "# Reverses the Boolean value (True becomes False, and False becomes True)\n",
    "X = True\n",
    "not X"
   ]
  },
  {
   "cell_type": "markdown",
   "metadata": {},
   "source": [
    "# Question 14: Write a Python program to calculate the square of a number.\n",
    "- square of a number: Exponentiation method (**)"
   ]
  },
  {
   "cell_type": "code",
   "execution_count": 91,
   "metadata": {},
   "outputs": [
    {
     "name": "stdout",
     "output_type": "stream",
     "text": [
      "27\n"
     ]
    }
   ],
   "source": [
    "# Exponentiation method (**)\n",
    "num1=3\n",
    "num2=3\n",
    "exponent_result=num1**num2\n",
    "print(exponent_result)"
   ]
  },
  {
   "cell_type": "markdown",
   "metadata": {},
   "source": [
    "# Question 15: Write a Python program to check if a number is even or odd."
   ]
  },
  {
   "cell_type": "code",
   "execution_count": 1,
   "metadata": {},
   "outputs": [
    {
     "name": "stdout",
     "output_type": "stream",
     "text": [
      "The num 0 is even.\n"
     ]
    }
   ],
   "source": [
    "# Using the Modulus Operator (%)\n",
    "num=int(input(\"Enter the number\"))\n",
    "\n",
    "if num %2 == 0:\n",
    "    print(f\"The num {num} is even.\")\n",
    "else:\n",
    "    print(f\"The num {num} is odd\")"
   ]
  },
  {
   "cell_type": "markdown",
   "metadata": {},
   "source": [
    "# Question 16: Write a Python program to find the sum of the first n natural numbers.\n",
    "- Natural numbers are positive integers starting from 1, 2, 3,...."
   ]
  },
  {
   "cell_type": "code",
   "execution_count": 7,
   "metadata": {},
   "outputs": [
    {
     "name": "stdout",
     "output_type": "stream",
     "text": [
      "sum of the first 5 natural numbers is: 15\n"
     ]
    }
   ],
   "source": [
    "# Taking user input\n",
    "n = int(input(\"Enter a natural number: \"))\n",
    "\n",
    "# Using formula to find sum\n",
    "sum_n = (n * (n + 1)) //2 # ans\n",
    "\n",
    "# Printing the result\n",
    "print(f\"sum of the first {n} natural numbers is: {sum_n}\")"
   ]
  },
  {
   "cell_type": "markdown",
   "metadata": {},
   "source": [
    "# Question 17: Write a Python program to check if a year is a leap year."
   ]
  },
  {
   "cell_type": "code",
   "execution_count": 19,
   "metadata": {},
   "outputs": [
    {
     "name": "stdout",
     "output_type": "stream",
     "text": [
      "500 is not a leap year.\n"
     ]
    }
   ],
   "source": [
    "year = int(input(\"Enter a year: \"))  \n",
    "if year % 400 == 0 or year % 4 == 0 and year % 100 != 0:  \n",
    "    print(f\"{year} is a leap year.\")  \n",
    "else:  \n",
    "    print(f\"{year} is not a leap year.\")"
   ]
  },
  {
   "cell_type": "code",
   "execution_count": null,
   "metadata": {},
   "outputs": [],
   "source": []
  }
 ],
 "metadata": {
  "kernelspec": {
   "display_name": "Python 3",
   "language": "python",
   "name": "python3"
  },
  "language_info": {
   "codemirror_mode": {
    "name": "ipython",
    "version": 3
   },
   "file_extension": ".py",
   "mimetype": "text/x-python",
   "name": "python",
   "nbconvert_exporter": "python",
   "pygments_lexer": "ipython3",
   "version": "3.12.9"
  }
 },
 "nbformat": 4,
 "nbformat_minor": 2
}
