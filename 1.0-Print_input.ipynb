{
 "cells": [
  {
   "cell_type": "markdown",
   "metadata": {},
   "source": [
    "# print\n",
    "- In Python, the print() function is used to display output on the screen (console). It is one of the most commonly used functions for debugging and showing results."
   ]
  },
  {
   "cell_type": "code",
   "execution_count": 45,
   "metadata": {},
   "outputs": [
    {
     "name": "stdout",
     "output_type": "stream",
     "text": [
      "Hello, World!\n"
     ]
    }
   ],
   "source": [
    "#1. Printing a Single String\n",
    "print(\"Hello, World!\")"
   ]
  },
  {
   "cell_type": "code",
   "execution_count": 46,
   "metadata": {},
   "outputs": [
    {
     "name": "stdout",
     "output_type": "stream",
     "text": [
      "Python is fun!\n"
     ]
    }
   ],
   "source": [
    "#2.Printing Multiple Values\n",
    "print(\"Python\", \"is\", \"fun!\")"
   ]
  },
  {
   "cell_type": "code",
   "execution_count": 47,
   "metadata": {},
   "outputs": [
    {
     "name": "stdout",
     "output_type": "stream",
     "text": [
      "Python^is^fun!\n"
     ]
    }
   ],
   "source": [
    "#3. Using a Custom Separator\n",
    "print(\"Python\", \"is\", \"fun!\", sep=\"^\")"
   ]
  },
  {
   "cell_type": "code",
   "execution_count": 48,
   "metadata": {},
   "outputs": [
    {
     "name": "stdout",
     "output_type": "stream",
     "text": [
      "Hello#World!\n"
     ]
    }
   ],
   "source": [
    "#4. Changing the End Parameter\n",
    "#(Default newline is replaced by a space)\n",
    "print(\"Hello\", end=\"#\")\n",
    "print(\"World!\")"
   ]
  },
  {
   "cell_type": "markdown",
   "metadata": {},
   "source": [
    "## String Concatenation.\n",
    "Explanation:\n",
    "- The + operator is used to join (concatenate) strings.\n",
    "- Since age is an integer, it is converted to a string using str(age) before concatenation."
   ]
  },
  {
   "cell_type": "code",
   "execution_count": 7,
   "metadata": {},
   "outputs": [
    {
     "name": "stdout",
     "output_type": "stream",
     "text": [
      "method-1\n",
      "kishan:26\n",
      "kishan:26\n"
     ]
    }
   ],
   "source": [
    "#\n",
    "age = 26\n",
    "name = \"kishan\"\n",
    "\n",
    "print(\"method-1\")\n",
    "print(\"kishan\" + \":\" + \"26\")  # Direct concatenation of string literals\n",
    "print(name + \":\" + str(age))  # Concatenating variables (type conversion needed for age)\n"
   ]
  },
  {
   "cell_type": "markdown",
   "metadata": {},
   "source": [
    "# Printing with Multiple Arguments using print().\n",
    "Explanation of print(name, \":\", age):\n",
    "- The print() function can take multiple arguments separated by commas (,).\n",
    "- By default, print() inserts a space (' ') between arguments.\n",
    "- No need to convert age to a string because print() automatically converts non-string values.\n"
   ]
  },
  {
   "cell_type": "code",
   "execution_count": 9,
   "metadata": {},
   "outputs": [
    {
     "name": "stdout",
     "output_type": "stream",
     "text": [
      "method-2\n",
      "kishan : 26\n"
     ]
    }
   ],
   "source": [
    "print(\"method-2\")\n",
    "print(name, \":\" ,age)"
   ]
  },
  {
   "cell_type": "markdown",
   "metadata": {},
   "source": [
    "# Old-style String Formatting (using % Operator)\n",
    "Explanation of % Formatting:\n",
    "- %s → Placeholder for a string (e.g., name)\n",
    "- %d → Placeholder for an integer (e.g., age)\n",
    "- Values are passed in a tuple after %."
   ]
  },
  {
   "cell_type": "code",
   "execution_count": 11,
   "metadata": {},
   "outputs": [
    {
     "name": "stdout",
     "output_type": "stream",
     "text": [
      "Method-3\n",
      "kishan : 26\n",
      "My name is kishan and my age is 26\n"
     ]
    }
   ],
   "source": [
    "print(\"Method-3\")\n",
    "print(\"%s : %d\" %  (name,age))\n",
    "print(\"My name is %s and my age is %d\" % (name,age))"
   ]
  },
  {
   "cell_type": "markdown",
   "metadata": {},
   "source": [
    "# f-strings (Formatted String Literals).\n",
    "Explanation of f-strings (f\"\"):\n",
    "- Introduced in Python 3.6+.\n",
    "- Uses {} curly braces inside an f\"\" string to insert variables directly.\n",
    "- Automatically converts data types (no need for str() conversion).\n",
    "- More readable and efficient than older methods."
   ]
  },
  {
   "cell_type": "code",
   "execution_count": 52,
   "metadata": {},
   "outputs": [
    {
     "name": "stdout",
     "output_type": "stream",
     "text": [
      "Method-4\n",
      "my name is kishan and my age is 26\n",
      "kishan : 26\n"
     ]
    }
   ],
   "source": [
    "print(\"Method-4\")\n",
    "print(f\"my name is {name} and my age is {age}\")\n",
    "print(f\"{name} : {age}\" )"
   ]
  },
  {
   "cell_type": "markdown",
   "metadata": {},
   "source": [
    "# str.format() method (New-style Formatting).\n",
    "Explanation of str.format():\n",
    "- Introduced in Python 2.7 and 3.0.\n",
    "- Uses {} as placeholders and replaces them with values.\n",
    "- The .format() method inserts values in the placeholders in order.\n"
   ]
  },
  {
   "cell_type": "code",
   "execution_count": 53,
   "metadata": {},
   "outputs": [
    {
     "name": "stdout",
     "output_type": "stream",
     "text": [
      "Method-5\n",
      "kishan : 26\n",
      "My name is kishan and my age is 26\n"
     ]
    }
   ],
   "source": [
    "print(\"Method-5\")\n",
    "print(\"{} : {}\".format(name,age))\n",
    "print(\"My name is {} and my age is {}\".format(name,age))"
   ]
  },
  {
   "cell_type": "markdown",
   "metadata": {},
   "source": [
    "# Concept of sep and end in print() function in Python\n",
    "- In Python, the print() function has two important optional parameters:\n",
    "\n",
    "1. sep (Separator)\n",
    "2. end (Ending Character)"
   ]
  },
  {
   "cell_type": "markdown",
   "metadata": {},
   "source": [
    "1. sep (Separator)\n",
    "   - Used to specify a separator between multiple values in print().\n",
    "   - Default value: A single space (' ')."
   ]
  },
  {
   "cell_type": "code",
   "execution_count": 54,
   "metadata": {},
   "outputs": [
    {
     "name": "stdout",
     "output_type": "stream",
     "text": [
      "18 12 30\n"
     ]
    }
   ],
   "source": [
    "#Example: Using Default Separator (sep=\" \")\n",
    "a=18\n",
    "b=12\n",
    "print(a,b,a+b)"
   ]
  },
  {
   "cell_type": "code",
   "execution_count": 55,
   "metadata": {},
   "outputs": [
    {
     "name": "stdout",
     "output_type": "stream",
     "text": [
      "18@12@30\n"
     ]
    }
   ],
   "source": [
    "#Example: Custom Separator (sep=\"-\")\n",
    "print(a,b,a+b,sep=\"@\")\n"
   ]
  },
  {
   "cell_type": "markdown",
   "metadata": {},
   "source": [
    "## end (Ending Character)\n",
    "- Used to specify what to print at the end of the output.\n",
    "- Default value: A newline ('\\n'), meaning the next print statement appears on a new line."
   ]
  },
  {
   "cell_type": "code",
   "execution_count": 56,
   "metadata": {},
   "outputs": [
    {
     "name": "stdout",
     "output_type": "stream",
     "text": [
      "18 12 30$kishan\n"
     ]
    }
   ],
   "source": [
    "print(a,b,a+b,end = \"$\")\n",
    "print(\"kishan\")"
   ]
  },
  {
   "cell_type": "code",
   "execution_count": 12,
   "metadata": {},
   "outputs": [
    {
     "data": {
      "text/plain": [
       "'50'"
      ]
     },
     "execution_count": 12,
     "metadata": {},
     "output_type": "execute_result"
    }
   ],
   "source": [
    "input()"
   ]
  },
  {
   "cell_type": "code",
   "execution_count": 58,
   "metadata": {},
   "outputs": [
    {
     "ename": "ValueError",
     "evalue": "invalid literal for int() with base 10: ''",
     "output_type": "error",
     "traceback": [
      "\u001b[31m---------------------------------------------------------------------------\u001b[39m",
      "\u001b[31mValueError\u001b[39m                                Traceback (most recent call last)",
      "\u001b[36mCell\u001b[39m\u001b[36m \u001b[39m\u001b[32mIn[58]\u001b[39m\u001b[32m, line 1\u001b[39m\n\u001b[32m----> \u001b[39m\u001b[32m1\u001b[39m k1=\u001b[38;5;28;43mint\u001b[39;49m\u001b[43m(\u001b[49m\u001b[38;5;28;43minput\u001b[39;49m\u001b[43m(\u001b[49m\u001b[33;43m\"\u001b[39;49m\u001b[33;43mk1: \u001b[39;49m\u001b[33;43m\"\u001b[39;49m\u001b[43m)\u001b[49m\u001b[43m)\u001b[49m\n",
      "\u001b[31mValueError\u001b[39m: invalid literal for int() with base 10: ''"
     ]
    }
   ],
   "source": [
    "k1=int(input(\"k1: \"))"
   ]
  },
  {
   "cell_type": "code",
   "execution_count": null,
   "metadata": {},
   "outputs": [
    {
     "data": {
      "text/plain": [
       "'25'"
      ]
     },
     "execution_count": 24,
     "metadata": {},
     "output_type": "execute_result"
    }
   ],
   "source": [
    "input()"
   ]
  },
  {
   "cell_type": "code",
   "execution_count": null,
   "metadata": {},
   "outputs": [],
   "source": [
    "k2=int(input(\"k2: \"))"
   ]
  },
  {
   "cell_type": "code",
   "execution_count": null,
   "metadata": {},
   "outputs": [
    {
     "name": "stdout",
     "output_type": "stream",
     "text": [
      "75\n"
     ]
    }
   ],
   "source": [
    "sum=k1+k2\n",
    "print(sum)"
   ]
  },
  {
   "cell_type": "code",
   "execution_count": null,
   "metadata": {},
   "outputs": [
    {
     "name": "stdout",
     "output_type": "stream",
     "text": [
      "50\n",
      "25\n",
      "sum of 50 and 25 ans is 75\n"
     ]
    }
   ],
   "source": [
    "k1=int(input(\"k1: \"))\n",
    "k2=int(input(\"k2: \"))\n",
    "sum=k1+k2\n",
    "print(k1)\n",
    "print(k2)\n",
    "print(f\"sum of {k1} and {k2} ans is {sum}\")"
   ]
  },
  {
   "cell_type": "code",
   "execution_count": null,
   "metadata": {},
   "outputs": [
    {
     "name": "stdout",
     "output_type": "stream",
     "text": [
      "100\n",
      "20\n",
      "division of 100 and 20 ans is 5.0\n"
     ]
    }
   ],
   "source": [
    "k1=int(input(\"k1: \"))\n",
    "k2=int(input(\"k2: \"))\n",
    "division=k1/k2\n",
    "print(k1)\n",
    "print(k2)\n",
    "print(f\"division of {k1} and {k2} ans is {division}\")"
   ]
  },
  {
   "cell_type": "code",
   "execution_count": null,
   "metadata": {},
   "outputs": [
    {
     "name": "stdout",
     "output_type": "stream",
     "text": [
      "25\n",
      "5\n",
      "multiple of 25 and 5 ans is 125\n"
     ]
    }
   ],
   "source": [
    "k1=int(input(\"k1: \"))\n",
    "k2=int(input(\"k2: \"))\n",
    "multiple=k1*k2\n",
    "print(k1)\n",
    "print(k2)\n",
    "print(f\"multiple of {k1} and {k2} ans is {multiple}\")"
   ]
  },
  {
   "cell_type": "code",
   "execution_count": null,
   "metadata": {},
   "outputs": [
    {
     "name": "stdout",
     "output_type": "stream",
     "text": [
      "25\n",
      "5\n",
      "difference of 25 and 5 ans is 20\n"
     ]
    }
   ],
   "source": [
    "k1=int(input(\"k1: \"))\n",
    "k2=int(input(\"k2: \"))\n",
    "difference=k1-k2\n",
    "print(k1)\n",
    "print(k2)\n",
    "print(f\"difference of {k1} and {k2} ans is {difference}\")"
   ]
  },
  {
   "cell_type": "code",
   "execution_count": null,
   "metadata": {},
   "outputs": [
    {
     "name": "stdout",
     "output_type": "stream",
     "text": [
      "100\n",
      "25\n",
      "sum of 100 and 25 ans is 125\n",
      "division of 100 and 25 ans is 75\n",
      "multiple of 100 and 25 ans is 2500\n",
      "difference of 100 and 25 ans is 75\n"
     ]
    }
   ],
   "source": [
    "#1\n",
    "k1=int(input(\"k1: \"))\n",
    "k2=int(input(\"k2: \"))\n",
    "sum=k1+k2\n",
    "print(k1)\n",
    "print(k2)\n",
    "print(f\"sum of {k1} and {k2} ans is {sum}\")\n",
    "\n",
    "#2\n",
    "division=k1-k2\n",
    "print(f\"division of {k1} and {k2} ans is {division}\")\n",
    "\n",
    "#3\n",
    "multiple=k1*k2\n",
    "print(f\"multiple of {k1} and {k2} ans is {multiple}\")\n",
    "\n",
    "#4\n",
    "difference=k1-k2\n",
    "print(f\"difference of {k1} and {k2} ans is {difference}\")"
   ]
  },
  {
   "cell_type": "markdown",
   "metadata": {},
   "source": [
    "# Conclusion of print() & input() in Python\n",
    "- print() is used to display output. It supports formatting with sep, end, %, .format(), and f-strings (recommended).\n",
    "- input() is used to take user input, which is always a string by default. It can be converted to int, float, or other types as needed.\n",
    "- sep in print() controls the separator between values, while end defines what comes after the output (default is a new line).\n"
   ]
  }
 ],
 "metadata": {
  "kernelspec": {
   "display_name": "Python 3",
   "language": "python",
   "name": "python3"
  },
  "language_info": {
   "codemirror_mode": {
    "name": "ipython",
    "version": 3
   },
   "file_extension": ".py",
   "mimetype": "text/x-python",
   "name": "python",
   "nbconvert_exporter": "python",
   "pygments_lexer": "ipython3",
   "version": "3.12.9"
  }
 },
 "nbformat": 4,
 "nbformat_minor": 2
}
