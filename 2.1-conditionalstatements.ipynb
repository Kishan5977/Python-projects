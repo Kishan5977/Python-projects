{
 "cells": [
  {
   "cell_type": "markdown",
   "metadata": {},
   "source": [
    "# Conditional Statements (if, elif, else)\n",
    "- Conditional statements in Python allow a program to execute different code blocks based on certain conditions. These conditions are evaluated as True or False.\n",
    "\n"
   ]
  },
  {
   "cell_type": "code",
   "execution_count": 57,
   "metadata": {},
   "outputs": [
    {
     "data": {
      "text/plain": [
       "'\\nSyntax:\\nif (condition):\\nExpression ----> excetues when condition is True.\\nExpression:\\nstatement1\\nstatement2\\nstatement3\\nstatement4\\nstatement5\\n.\\n.\\n.\\n.\\n.\\n'"
      ]
     },
     "execution_count": 57,
     "metadata": {},
     "output_type": "execute_result"
    }
   ],
   "source": [
    "\n",
    "'''\n",
    "Syntax:\n",
    "if (condition):\n",
    "Expression ----> excetues when condition is True.\n",
    "Expression:\n",
    "statement1\n",
    "statement2\n",
    "statement3\n",
    "statement4\n",
    "statement5\n",
    ".\n",
    ".\n",
    ".\n",
    ".\n",
    ".\n",
    "'''"
   ]
  },
  {
   "cell_type": "code",
   "execution_count": 58,
   "metadata": {},
   "outputs": [
    {
     "name": "stdout",
     "output_type": "stream",
     "text": [
      "True\n",
      "You are allowed to vote in the elections\n"
     ]
    }
   ],
   "source": [
    "## if statement\n",
    "# The if statement executes a block of code only if a specified condition is True.\n",
    "age=20\n",
    "print(age>=18)\n",
    "if age>=18:\n",
    "\n",
    "    print(\"You are allowed to vote in the elections\")"
   ]
  },
  {
   "cell_type": "code",
   "execution_count": 59,
   "metadata": {},
   "outputs": [
    {
     "name": "stdout",
     "output_type": "stream",
     "text": [
      "True\n",
      "You are eligible for voting\n"
     ]
    }
   ],
   "source": [
    "## else\n",
    "## The else statement executes a block of code if the condition in the if␣↪statement is False.\n",
    "age=20\n",
    "print(age>=18)\n",
    "if age>=18:\n",
    "    print(\"You are eligible for voting\") # when condition is True\n",
    "else:\n",
    "    print(\"You are a minor\") # when condition is False"
   ]
  },
  {
   "cell_type": "code",
   "execution_count": 60,
   "metadata": {},
   "outputs": [
    {
     "name": "stdout",
     "output_type": "stream",
     "text": [
      "False\n",
      "True\n",
      "You are a teenager\n"
     ]
    }
   ],
   "source": [
    "## elif\n",
    "## The elif statement allows you to check multiple conditions. It stands for \"else if\"\n",
    "age=17\n",
    "print(age<13)\n",
    "print(age<18)\n",
    "if age<13:\n",
    "    print(\"You are a child\")\n",
    "elif age<18: # else if\n",
    "    print(\"You are a teenager\")\n",
    "else:\n",
    "    print(\"You are an adult\")"
   ]
  },
  {
   "cell_type": "code",
   "execution_count": 61,
   "metadata": {},
   "outputs": [
    {
     "name": "stdout",
     "output_type": "stream",
     "text": [
      "False\n",
      "True\n",
      "allowed to vote\n"
     ]
    }
   ],
   "source": [
    "age = 20\n",
    "print(age>=21)\n",
    "print(age>18)\n",
    "if age>=21:\n",
    "    print(\"allowed to marry & voting\")\n",
    "elif age>18:\n",
    "    print(\"allowed to vote\")\n",
    "else:\n",
    "    print(\"minor\")"
   ]
  },
  {
   "cell_type": "code",
   "execution_count": 62,
   "metadata": {},
   "outputs": [
    {
     "name": "stdout",
     "output_type": "stream",
     "text": [
      "True\n",
      "True\n",
      "allowed to vote\n"
     ]
    }
   ],
   "source": [
    "# Error Block\n",
    "age=22\n",
    "print(age>18)\n",
    "print(age>21)\n",
    "if age>=18:\n",
    "    print(\"allowed to vote\")\n",
    "elif age>21:\n",
    "    print(\"allowed to marry\")\n",
    "else:\n",
    "    print(\"minor\")"
   ]
  },
  {
   "cell_type": "code",
   "execution_count": 63,
   "metadata": {},
   "outputs": [
    {
     "name": "stdout",
     "output_type": "stream",
     "text": [
      "The number is positive\n",
      "The number is odd\n"
     ]
    }
   ],
   "source": [
    "## Nested Conditional Statements\n",
    "# You can place one or more if, elif, or else statements inside another if,␣↪elif, or else statement to create nested conditional statements.\n",
    "# number even ,odd, negative, zero, positive\n",
    "\n",
    "# number----1> positive, negative or Zero\n",
    "# number----2> Even or odd (For positive numbers only)\n",
    "num=int(input(\"Enter the number\"))\n",
    "if num>0:\n",
    "    print(\"The number is positive\")\n",
    "\n",
    "    if num%2 == 0:\n",
    "        print(\"The number is even\")\n",
    "    else:\n",
    "        print(\"The number is odd\")\n",
    "elif num==0:\n",
    "    print(\"The number is zero\")\n",
    "else:\n",
    "    print(\"The number is negative\")"
   ]
  },
  {
   "cell_type": "markdown",
   "metadata": {},
   "source": [
    "# 0.1 Practical Examples"
   ]
  },
  {
   "cell_type": "code",
   "execution_count": 1,
   "metadata": {},
   "outputs": [
    {
     "name": "stdout",
     "output_type": "stream",
     "text": [
      "500 is not a leap year\n"
     ]
    }
   ],
   "source": [
    "## Determine if a year is a leap year using nested condition statement\n",
    "year=int(input(\"Enter the year\"))\n",
    "if year%4==0:\n",
    "    if year%100==0:\n",
    "        if year%400==0:\n",
    "            print(year,\"is a leap year\")\n",
    "        else:\n",
    "            print(year,\"is not a leap year\")\n",
    "    else:\n",
    "        print(year,\"is a leap year\")\n",
    "else:\n",
    "    print(year,\"is not a leap year\")"
   ]
  },
  {
   "cell_type": "markdown",
   "metadata": {},
   "source": [
    "# Key Points\n",
    "- ✔ The input() function takes user input as a string.\n",
    "- ✔ The user enters an operation (+, -, *, /), which is stored in operation.\n",
    "- ✔ It is later used in conditional statements (if, elif) to perform the correct calculation."
   ]
  },
  {
   "cell_type": "code",
   "execution_count": 65,
   "metadata": {},
   "outputs": [
    {
     "name": "stdout",
     "output_type": "stream",
     "text": [
      "Result: 6.0\n"
     ]
    }
   ],
   "source": [
    "## Assignment\n",
    "## Simple Calculator program\n",
    "# Take user input\n",
    "num1 = float(input(\"Enter first number: \"))\n",
    "num2 = float(input(\"Enter second number: \"))\n",
    "operation = input(\"Enter operation (+, -, *, /): \") \n",
    "# If the user types *, the variable operation will store \"*\" (as a string).\n",
    "\n",
    "# If the user types /, the variable operation will store \"/\".\n",
    "\n",
    "# Perform the requested operation\n",
    "\n",
    "if operation == '+':\n",
    "    result = num1 + num2\n",
    "elif operation == '-':\n",
    "    result = num1 - num2\n",
    "elif operation == '*':\n",
    "    result = num1 * num2\n",
    "\n",
    "\n",
    "elif operation == '/':    \n",
    "    if num2 != 0:\n",
    "        result = num1 / num2\n",
    "    else:\n",
    "        result = \"Error! Division by zero.\"\n",
    "else:\n",
    "    result = \"Invalid operation.\"\n",
    "\n",
    "print(\"Result:\", result)"
   ]
  },
  {
   "cell_type": "code",
   "execution_count": 84,
   "metadata": {},
   "outputs": [
    {
     "name": "stdout",
     "output_type": "stream",
     "text": [
      "ticket price: $12\n"
     ]
    }
   ],
   "source": [
    "### Determine the ticket price based on age and whether the person is a student.\n",
    "# Ticket pricing based on age and student status\n",
    "# Take user input\n",
    "\n",
    "age = int(input(\"enter your age \"))\n",
    "if age < 5 or age > 60:\n",
    "    price = \"free\"\n",
    "elif 5 <= age <= 25:\n",
    "    is_student = input(\"are you student? (yes/no): \")\n",
    "    if 5 <= age <= 12:\n",
    "        price = \"$10\"\n",
    "    elif 13 <= age <=25:\n",
    "        if is_student == \"yes\":\n",
    "            price = \"$12\"\n",
    "        else:\n",
    "            price = \"$15\"\n",
    "elif 25 < age <=60:\n",
    "    price = \"$30\"\n",
    "\n",
    "print(\"ticket price:\", price)\n",
    "\n"
   ]
  },
  {
   "cell_type": "markdown",
   "metadata": {},
   "source": [
    "- Complex Example 3: Employee Bonus Calculation Calculate an employee’s bonus based on their performance rating and years of service."
   ]
  },
  {
   "cell_type": "code",
   "execution_count": 82,
   "metadata": {},
   "outputs": [
    {
     "name": "stdout",
     "output_type": "stream",
     "text": [
      "Salary: $12345.00\n",
      "Bonus Amount: $1851.75\n",
      "Total Salary: $14196.75\n"
     ]
    }
   ],
   "source": [
    "# Employee bonus calculation\n",
    "# Take user input\n",
    "years_of_service = int(input(\"Enter years of service: \"))\n",
    "performance_rating = float(input(\"Enter performance rating (1.0 to 5.0): \"))\n",
    "\n",
    "# Determine bonus percentage\n",
    "if performance_rating >= 4.5:\n",
    "    if years_of_service > 10:\n",
    "        bonus_percentage = 20\n",
    "    elif years_of_service > 5:\n",
    "        bonus_percentage = 15\n",
    "    else:\n",
    "        bonus_percentage = 10\n",
    "elif performance_rating >= 3.5:\n",
    "    if years_of_service > 10:\n",
    "        bonus_percentage = 15\n",
    "    elif years_of_service > 5:\n",
    "        bonus_percentage = 10\n",
    "    else:\n",
    "        bonus_percentage = 5\n",
    "else:\n",
    "    bonus_percentage = 0\n",
    "    \n",
    "# Calculate bonus amount\n",
    "salary = float(input(\"Enter current salary: \"))\n",
    "bonus_amount = salary * bonus_percentage / 100\n",
    "total_salary= bonus_amount+salary\n",
    "print(\"Salary: ${:.2f}\".format(salary))\n",
    "print(\"Bonus Amount: ${:.2f}\".format(bonus_amount))\n",
    "print(\"Total Salary: ${:.2f}\".format(total_salary))"
   ]
  },
  {
   "cell_type": "markdown",
   "metadata": {},
   "source": [
    "# 0.2 Complex Example 4: User Login System\n",
    "- A simple user login system that checks the username and password."
   ]
  },
  {
   "cell_type": "code",
   "execution_count": 75,
   "metadata": {},
   "outputs": [
    {
     "name": "stdout",
     "output_type": "stream",
     "text": [
      "Incorrect password.\n"
     ]
    }
   ],
   "source": [
    "# User login system\n",
    "\n",
    "# Predefined username and password\n",
    "stored_username = \"admin\"\n",
    "stored_password = \"password123\"\n",
    "\n",
    "# Take user input\n",
    "username = input(\"Enter username: \")\n",
    "password = input(\"Enter password: \")\n",
    "\n",
    "# Check login credentials\n",
    "if username == stored_username:\n",
    "    if password == stored_password:\n",
    "        print(\"Login successful!\")\n",
    "    else:\n",
    "        print(\"Incorrect password.\")\n",
    "else:\n",
    "    print(\"Username not found.\")"
   ]
  }
 ],
 "metadata": {
  "kernelspec": {
   "display_name": "Python 3",
   "language": "python",
   "name": "python3"
  },
  "language_info": {
   "codemirror_mode": {
    "name": "ipython",
    "version": 3
   },
   "file_extension": ".py",
   "mimetype": "text/x-python",
   "name": "python",
   "nbconvert_exporter": "python",
   "pygments_lexer": "ipython3",
   "version": "3.12.9"
  }
 },
 "nbformat": 4,
 "nbformat_minor": 2
}
