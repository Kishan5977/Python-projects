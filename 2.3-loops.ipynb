{
 "cells": [
  {
   "cell_type": "markdown",
   "metadata": {},
   "source": [
    "# For loop\n",
    "\n",
    "- “A for loop is like giving instructions to a robot to repeat a task for every item in a list.”\n",
    "\n",
    "- Example: “If you have a list of fruits, and you ask a child to say the name of each fruit one by one, that’s a for loop.”\n",
    " "
   ]
  },
  {
   "cell_type": "code",
   "execution_count": 2,
   "metadata": {},
   "outputs": [
    {
     "name": "stdout",
     "output_type": "stream",
     "text": [
      "apple\n",
      "banana\n",
      "cherry\n",
      "grapes\n",
      "orange\n"
     ]
    }
   ],
   "source": [
    "# using for Loop with a List\n",
    "\n",
    "fruits = [\"apple\", \"banana\", \"cherry\", \"grapes\",\"orange\"]\n",
    "for fruit in fruits:\n",
    "    print(fruit) # Actual code"
   ]
  },
  {
   "cell_type": "markdown",
   "metadata": {},
   "source": [
    "# 0.0.2 Range Function\n",
    "- The range() function generates a sequence of numbers.\n",
    "- range(5) generates numbers from 0 to 4 (5 numbers)."
   ]
  },
  {
   "cell_type": "code",
   "execution_count": 3,
   "metadata": {},
   "outputs": [
    {
     "data": {
      "text/plain": [
       "range(0, 5)"
      ]
     },
     "execution_count": 3,
     "metadata": {},
     "output_type": "execute_result"
    }
   ],
   "source": [
    "range(5) # [0, 1, 2, 3, 4] Always starts with 0."
   ]
  },
  {
   "cell_type": "markdown",
   "metadata": {},
   "source": [
    "# 0.0.3 For loop with Range Function"
   ]
  },
  {
   "cell_type": "code",
   "execution_count": 4,
   "metadata": {},
   "outputs": [
    {
     "name": "stdout",
     "output_type": "stream",
     "text": [
      "0\n",
      "1\n",
      "2\n",
      "3\n",
      "4\n"
     ]
    }
   ],
   "source": [
    "for i in range(5):\n",
    "    print(i)\n"
   ]
  },
  {
   "cell_type": "code",
   "execution_count": 5,
   "metadata": {},
   "outputs": [
    {
     "name": "stdout",
     "output_type": "stream",
     "text": [
      "Hello\n",
      "Hello\n",
      "Hello\n",
      "Hello\n",
      "Hello\n"
     ]
    }
   ],
   "source": [
    "for i in range(5):\n",
    "    print(\"Hello\")"
   ]
  },
  {
   "cell_type": "markdown",
   "metadata": {},
   "source": [
    "# Using range(start, stop, step)"
   ]
  },
  {
   "cell_type": "code",
   "execution_count": 6,
   "metadata": {},
   "outputs": [
    {
     "name": "stdout",
     "output_type": "stream",
     "text": [
      "1\n",
      "2\n",
      "3\n",
      "4\n",
      "5\n",
      "6\n",
      "7\n",
      "8\n",
      "9\n"
     ]
    }
   ],
   "source": [
    "for i in range(1,10): # [1, 2, 3, 4, 5] # step size= 1\n",
    "    print(i)"
   ]
  },
  {
   "cell_type": "code",
   "execution_count": 7,
   "metadata": {},
   "outputs": [
    {
     "name": "stdout",
     "output_type": "stream",
     "text": [
      "1\n",
      "3\n",
      "5\n",
      "7\n",
      "9\n"
     ]
    }
   ],
   "source": [
    "# range(1, 10, 2) starts from 1, goes up to 9, and increments by 2 each time.\n",
    "\n",
    "for i in range(1,10,2): #[1, 3, 5, 7, 9]\n",
    "    print(i)"
   ]
  },
  {
   "cell_type": "code",
   "execution_count": 8,
   "metadata": {},
   "outputs": [
    {
     "data": {
      "text/plain": [
       "[15, 13, 11, 9, 7]"
      ]
     },
     "execution_count": 8,
     "metadata": {},
     "output_type": "execute_result"
    }
   ],
   "source": [
    "# range(start_value, end_value, step_size)\n",
    "# default_start_value=0\n",
    "# defualt_step_size=1\n",
    "# Takes end_value as (n-1) always\n",
    "\n",
    "list(range(15,5,-2))"
   ]
  },
  {
   "cell_type": "code",
   "execution_count": 9,
   "metadata": {},
   "outputs": [
    {
     "name": "stdout",
     "output_type": "stream",
     "text": [
      "10\n",
      "9\n",
      "8\n",
      "7\n",
      "6\n",
      "5\n",
      "4\n",
      "3\n",
      "2\n"
     ]
    }
   ],
   "source": [
    "for i in range(10,1,-1):\n",
    "    print(i)"
   ]
  },
  {
   "cell_type": "code",
   "execution_count": 2,
   "metadata": {},
   "outputs": [
    {
     "name": "stdout",
     "output_type": "stream",
     "text": [
      "10 8 6 4 2 "
     ]
    }
   ],
   "source": [
    "for i in range(10,1,-2):\n",
    "    print(i,end= \" \")"
   ]
  },
  {
   "cell_type": "markdown",
   "metadata": {},
   "source": [
    "# 0.0.4 For loop with strings"
   ]
  },
  {
   "cell_type": "code",
   "execution_count": 11,
   "metadata": {},
   "outputs": [
    {
     "name": "stdout",
     "output_type": "stream",
     "text": [
      "k\n",
      "i\n",
      "s\n",
      "h\n",
      "a\n",
      "n\n"
     ]
    }
   ],
   "source": [
    "name = \"kishan\"\n",
    "\n",
    "for i in name:\n",
    "    print(i)"
   ]
  },
  {
   "cell_type": "markdown",
   "metadata": {},
   "source": [
    "# 0.0.5 Using for Loop with else"
   ]
  },
  {
   "cell_type": "code",
   "execution_count": 12,
   "metadata": {},
   "outputs": [
    {
     "name": "stdout",
     "output_type": "stream",
     "text": [
      "0\n",
      "1\n",
      "2\n",
      "Loop finished successfully\n"
     ]
    }
   ],
   "source": [
    "for i in range(3):\n",
    "    print(i)\n",
    "else:\n",
    "    print(\"Loop finished successfully\")\n",
    "    "
   ]
  },
  {
   "cell_type": "markdown",
   "metadata": {},
   "source": [
    "# While loop\n",
    "\n",
    "- The while loop continues to execute as long as the condition is True, like a child eating candy until the bowl is empty.\n",
    "\n",
    "- Example: “Imagine you have a bowl of candies. You keep eating candies while the bowl is not empty. Once it’s empty, you stop.”"
   ]
  },
  {
   "cell_type": "code",
   "execution_count": 17,
   "metadata": {},
   "outputs": [
    {
     "name": "stdout",
     "output_type": "stream",
     "text": [
      "Eat a candy!\n",
      "Eat a candy!\n",
      "Eat a candy!\n",
      "Eat a candy!\n",
      "Eat a candy!\n",
      "No more candies!\n"
     ]
    }
   ],
   "source": [
    "candies = 5 # counter is must in While loop.\n",
    "while (candies > 0):\n",
    "    print(\"Eat a candy!\")\n",
    "    candies -= 1 # candies=candies-1\n",
    "\n",
    "print(\"No more candies!\")"
   ]
  },
  {
   "cell_type": "markdown",
   "metadata": {},
   "source": [
    "- “A condition is like a question with a ‘yes’ or ‘no’ answer. If the answer is ‘yes,’ the loop continues.\n",
    "If ‘no,’ it stops.”"
   ]
  },
  {
   "cell_type": "code",
   "execution_count": 2,
   "metadata": {},
   "outputs": [
    {
     "name": "stdout",
     "output_type": "stream",
     "text": [
      "0\n",
      "1\n",
      "2\n",
      "3\n",
      "4\n"
     ]
    }
   ],
   "source": [
    "count=0\n",
    "while (count<5):\n",
    "    print(count)\n",
    "    count += 1"
   ]
  },
  {
   "cell_type": "code",
   "execution_count": null,
   "metadata": {},
   "outputs": [],
   "source": [
    "count=0\n",
    "while count<5:\n",
    "    print(count)\n",
    "# count=count+1\n",
    "'''\n",
    "Conclusion:\n",
    "If the condition never becomes false, the loop keeps running forever.\n",
    "'''"
   ]
  },
  {
   "cell_type": "code",
   "execution_count": 4,
   "metadata": {},
   "outputs": [
    {
     "name": "stdout",
     "output_type": "stream",
     "text": [
      "Try again!\n",
      "Try again!\n",
      "Try again!\n",
      "False\n",
      "You guessed it Right!\n"
     ]
    }
   ],
   "source": [
    "# Guess the Number\n",
    "secret = 7\n",
    "guess = 0\n",
    "while guess != secret:\n",
    "    guess = int(input(\"Guess the number: \"))\n",
    "    if guess != secret:\n",
    "        print(\"Try again!\")\n",
    "        \n",
    "print(guess != secret)\n",
    "print(\"You guessed it Right!\")"
   ]
  },
  {
   "cell_type": "code",
   "execution_count": 5,
   "metadata": {},
   "outputs": [
    {
     "name": "stdout",
     "output_type": "stream",
     "text": [
      "Access denied. try again\n",
      "Access denied. try again\n",
      "Access Granted!\n"
     ]
    }
   ],
   "source": [
    "password = \"\"\n",
    "while password != \"kishan123\":\n",
    "    password = input(\"Enter the password: \")\n",
    "    if password != \"kishan123\":\n",
    "        print(\"Access denied. try again\")\n",
    "print(\"Access Granted!\")"
   ]
  },
  {
   "cell_type": "markdown",
   "metadata": {},
   "source": [
    "# For vs While Loop\n",
    "\n",
    "for loops are for when you know how many times to repeat. while loops are for when you don’t\n",
    "know in advance but have a condition.\n",
    "\n",
    "Example: Repeat for loop for 5 times. Keep guessing until you get the right answer in a While\n",
    "loop.\n",
    "\n",
    "- 1.Loop Control Statements\n",
    "\n",
    "  - break statement\n",
    "  - The break statement exits the loop prematurely"
   ]
  },
  {
   "cell_type": "code",
   "execution_count": null,
   "metadata": {},
   "outputs": [
    {
     "name": "stdout",
     "output_type": "stream",
     "text": [
      "0\n",
      "1\n",
      "2\n"
     ]
    }
   ],
   "source": [
    "# \"If you’re searching for a specific condition in a list, use break to stop␣ ↪the loop once you find it.\"\n",
    "\n",
    "for i in range(5): #[0,1,2,3,4]\n",
    "    if i==3: # When i reaches 3, the condition is True\n",
    "        break # Stops the loop immediately\n",
    "\n",
    "    print(i) # Prints the value of i before the break"
   ]
  },
  {
   "cell_type": "markdown",
   "metadata": {},
   "source": [
    "2. continue statement\n",
    "   - The continue statement skips the current iteration and continues with the next."
   ]
  },
  {
   "cell_type": "code",
   "execution_count": 14,
   "metadata": {},
   "outputs": [
    {
     "name": "stdout",
     "output_type": "stream",
     "text": [
      "0\n",
      "1\n",
      "2\n",
      "4\n"
     ]
    }
   ],
   "source": [
    "# \"If you’re counting numbers and want to skip the condition, use continue to avoid it.\"\n",
    "for i in range(5): # [0,1,2,3,4]\n",
    "    if i == 3 :\n",
    "        continue\n",
    "    print(i) # False"
   ]
  },
  {
   "cell_type": "code",
   "execution_count": 15,
   "metadata": {},
   "outputs": [
    {
     "name": "stdout",
     "output_type": "stream",
     "text": [
      "1\n",
      "3\n",
      "5\n",
      "7\n",
      "9\n"
     ]
    }
   ],
   "source": [
    "for i in range(10): # [0,9]\n",
    "\n",
    "    if i%2==0:\n",
    "        continue\n",
    "    print(i)"
   ]
  },
  {
   "cell_type": "markdown",
   "metadata": {},
   "source": [
    "# Nested loops: A loop inside a loop\n",
    "\n",
    "Think of a nested loop like a clock:\n",
    "- The outer loop is the hour hand.\n",
    "- The inner loop is the minute hand.\n",
    "\n",
    "For every move of the hour hand, the minute hand completes a full cycle."
   ]
  },
  {
   "cell_type": "code",
   "execution_count": 3,
   "metadata": {},
   "outputs": [
    {
     "name": "stdout",
     "output_type": "stream",
     "text": [
      "i:0 and j:0\n",
      "i:0 and j:1\n",
      "i:0 and j:2\n",
      "i:1 and j:0\n",
      "i:1 and j:1\n",
      "i:1 and j:2\n",
      "i:2 and j:0\n",
      "i:2 and j:1\n",
      "i:2 and j:2\n"
     ]
    }
   ],
   "source": [
    "for i in range(3): # [0,1,2] # slower--->hour hand\n",
    "    for j in range(3): #[0,1,2] # Faster ---> Minute hand\n",
    "        print(f\"i:{i} and j:{j}\") # Actual code"
   ]
  },
  {
   "cell_type": "code",
   "execution_count": 2,
   "metadata": {},
   "outputs": [
    {
     "name": "stdout",
     "output_type": "stream",
     "text": [
      "1 2 3 \n",
      "2 4 6 \n",
      "3 6 9 \n"
     ]
    }
   ],
   "source": [
    "for row in range(1, 4):\n",
    "    for col in range(1, 4):\n",
    "        print(row * col, end=\" \")\n",
    "    print()"
   ]
  },
  {
   "cell_type": "markdown",
   "metadata": {},
   "source": [
    "# Examples\n",
    "1. Calculate the sum of first N natural numbers using a while and for loop"
   ]
  },
  {
   "cell_type": "code",
   "execution_count": null,
   "metadata": {},
   "outputs": [
    {
     "name": "stdout",
     "output_type": "stream",
     "text": [
      "55\n"
     ]
    }
   ],
   "source": [
    "# For loop\n",
    "n = 10  # This value is not used in the loop\n",
    "sum = 0  # Initialize sum to 0\n",
    "\n",
    "for i in range(11):  # Loops from 0 to 10\n",
    "    sum = sum + i  # Adds each value of i to sum\n",
    "\n",
    "print(sum)  # Print the final sum"
   ]
  },
  {
   "cell_type": "code",
   "execution_count": 30,
   "metadata": {},
   "outputs": [
    {
     "name": "stdout",
     "output_type": "stream",
     "text": [
      "Sum of first 10 natural numbers: 55\n"
     ]
    }
   ],
   "source": [
    "# while loop\n",
    "n = 10  # Limit\n",
    "sum = 0  # Initialize sum to 0\n",
    "count = 1  # Start count from 1\n",
    "\n",
    "while count <= n:  # Loop runs while count is <= 10\n",
    "    sum = sum + count  # Add count to sum\n",
    "    count = count + 1  # Increment count\n",
    "\n",
    "print(\"Sum of first 10 natural numbers:\", sum)\n"
   ]
  },
  {
   "cell_type": "markdown",
   "metadata": {},
   "source": [
    "2. Find Prime numbers between 1 and 100."
   ]
  },
  {
   "cell_type": "code",
   "execution_count": 32,
   "metadata": {},
   "outputs": [
    {
     "name": "stdout",
     "output_type": "stream",
     "text": [
      "2\n",
      "3\n",
      "5\n",
      "7\n",
      "11\n",
      "13\n",
      "17\n",
      "19\n",
      "23\n",
      "29\n",
      "31\n",
      "37\n",
      "41\n",
      "43\n",
      "47\n",
      "53\n",
      "59\n",
      "61\n",
      "67\n",
      "71\n",
      "73\n",
      "79\n",
      "83\n",
      "89\n",
      "97\n"
     ]
    }
   ],
   "source": [
    "for num in range(1,101):\n",
    "\n",
    "    if num>1:\n",
    "        for i in range(2,num):\n",
    "            if num%i==0:\n",
    "                break\n",
    "        else:\n",
    "            print(num)"
   ]
  },
  {
   "cell_type": "markdown",
   "metadata": {},
   "source": [
    "- Conclusion: Loops are powerful constructs in Python that allow you to execute a block of code multiple times. By understanding and using for and while loops, along with loop control statements like break, continue, and pass, you can handle a wide range of programming tasks efficiently."
   ]
  }
 ],
 "metadata": {
  "kernelspec": {
   "display_name": "Python 3",
   "language": "python",
   "name": "python3"
  },
  "language_info": {
   "codemirror_mode": {
    "name": "ipython",
    "version": 3
   },
   "file_extension": ".py",
   "mimetype": "text/x-python",
   "name": "python",
   "nbconvert_exporter": "python",
   "pygments_lexer": "ipython3",
   "version": "3.12.9"
  }
 },
 "nbformat": 4,
 "nbformat_minor": 2
}
